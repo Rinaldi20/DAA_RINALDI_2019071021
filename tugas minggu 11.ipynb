{
 "cells": [
  {
   "cell_type": "markdown",
   "metadata": {},
   "source": [
    "# Undireted Graph"
   ]
  },
  {
   "cell_type": "code",
   "execution_count": null,
   "metadata": {},
   "outputs": [],
   "source": [
    "#a------d---------H--------f\n",
    "#|      |         |\n",
    "#|      G         |\n",
    "#|                |\n",
    "#b------c---------e"
   ]
  },
  {
   "cell_type": "code",
   "execution_count": 1,
   "metadata": {},
   "outputs": [
    {
     "name": "stdout",
     "output_type": "stream",
     "text": [
      "{'a': ['d', 'b'], 'b': ['a', 'c'], 'c': ['e', 'b'], 'd': ['a', 'H'], 'e': ['d', 'c'], 'f': ['h'], 'g': ['d'], 'h': ['d', 'f']}\n"
     ]
    }
   ],
   "source": [
    "graph = {\"a\" : [\"d\",\"b\",],\n",
    "         \"b\" : [\"a\",\"c\"],\n",
    "         \"c\" : [\"e\",\"b\"],\n",
    "         \"d\" : [\"a\",\"H\"],\n",
    "         \"e\" : [\"d\",\"c\"],\n",
    "         \"f\" : [\"h\"],\n",
    "         \"g\" : [\"d\"],\n",
    "         \"h\" : [\"d\",\"f\"]\n",
    "        }\n",
    "#print the graph\n",
    "print(graph)         "
   ]
  },
  {
   "cell_type": "code",
   "execution_count": null,
   "metadata": {},
   "outputs": [],
   "source": []
  }
 ],
 "metadata": {
  "kernelspec": {
   "display_name": "Python 3",
   "language": "python",
   "name": "python3"
  },
  "language_info": {
   "codemirror_mode": {
    "name": "ipython",
    "version": 3
   },
   "file_extension": ".py",
   "mimetype": "text/x-python",
   "name": "python",
   "nbconvert_exporter": "python",
   "pygments_lexer": "ipython3",
   "version": "3.8.3"
  }
 },
 "nbformat": 4,
 "nbformat_minor": 4
}
