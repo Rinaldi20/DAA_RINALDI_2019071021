{
 "cells": [
  {
   "cell_type": "markdown",
   "metadata": {},
   "source": [
    "# Bubble Sort"
   ]
  },
  {
   "cell_type": "code",
   "execution_count": 102,
   "metadata": {},
   "outputs": [],
   "source": [
    "list = [345,786,961,561,543,251]"
   ]
  },
  {
   "cell_type": "code",
   "execution_count": 103,
   "metadata": {},
   "outputs": [],
   "source": [
    "def BubbleSort(list):\n",
    "    \n",
    "    lastElementIndex = len(list)-1\n",
    "    for passNo in range (lastElementIndex,0,1):\n",
    "        for idx in range (passNO):\n",
    "            if list [idx]>list[idx+1]:\n",
    "                list[idx],list[idx+1]= list[idx+1],list[idx]\n",
    "                print (list)\n",
    "    return list"
   ]
  },
  {
   "cell_type": "code",
   "execution_count": 104,
   "metadata": {},
   "outputs": [
    {
     "name": "stdout",
     "output_type": "stream",
     "text": [
      "[345, 786, 961, 561, 543, 251]\n"
     ]
    }
   ],
   "source": [
    "BubbleSort(list)\n",
    "print(list)"
   ]
  },
  {
   "cell_type": "code",
   "execution_count": 105,
   "metadata": {},
   "outputs": [
    {
     "data": {
      "text/plain": [
       "[345, 786, 961, 561, 543, 251]"
      ]
     },
     "execution_count": 105,
     "metadata": {},
     "output_type": "execute_result"
    }
   ],
   "source": [
    "list"
   ]
  },
  {
   "cell_type": "markdown",
   "metadata": {},
   "source": [
    "# Insertion Sort"
   ]
  },
  {
   "cell_type": "code",
   "execution_count": 48,
   "metadata": {},
   "outputs": [],
   "source": [
    "list = [345,786,961,561,543,251]"
   ]
  },
  {
   "cell_type": "code",
   "execution_count": 49,
   "metadata": {},
   "outputs": [],
   "source": [
    "def InsertionSort(list):\n",
    "    for i in range (1,len(list)):\n",
    "        j=i-1\n",
    "        element_next=list[i]\n",
    "        while(list[j]>element_next) and(j>=0):\n",
    "            list[j+1]=list[j]\n",
    "            j=j-1\n",
    "            list[j+1]=element_next\n",
    "            return list"
   ]
  },
  {
   "cell_type": "code",
   "execution_count": 51,
   "metadata": {},
   "outputs": [
    {
     "name": "stdout",
     "output_type": "stream",
     "text": [
      "[345, 786, 561, 961, 543, 251]\n"
     ]
    }
   ],
   "source": [
    "InsertionSort(list)\n",
    "print(list)"
   ]
  },
  {
   "cell_type": "code",
   "execution_count": 52,
   "metadata": {},
   "outputs": [
    {
     "data": {
      "text/plain": [
       "[345, 786, 561, 961, 543, 251]"
      ]
     },
     "execution_count": 52,
     "metadata": {},
     "output_type": "execute_result"
    }
   ],
   "source": [
    "list"
   ]
  },
  {
   "cell_type": "markdown",
   "metadata": {},
   "source": [
    "# Selection Sort"
   ]
  },
  {
   "cell_type": "code",
   "execution_count": 62,
   "metadata": {},
   "outputs": [],
   "source": [
    "def SelectionSort(list):\n",
    "    for fill_slot in range (len(list)-1,0,-1):\n",
    "        max_index=0\n",
    "        for location in range(1,fill_slot+1):\n",
    "            if list[location]> list[max_index]:\n",
    "                max_index = location\n",
    "                list[fill_slot],list[max_index]= list[max_index],list[fill_slot]"
   ]
  },
  {
   "cell_type": "code",
   "execution_count": 63,
   "metadata": {},
   "outputs": [
    {
     "name": "stdout",
     "output_type": "stream",
     "text": [
      "[12, 93, 23, 34, 54, 76, 65]\n"
     ]
    }
   ],
   "source": [
    "list = [12,65,34,23,76,54,93]\n",
    "SelectionSort(list)\n",
    "print(list)"
   ]
  },
  {
   "cell_type": "code",
   "execution_count": 64,
   "metadata": {},
   "outputs": [
    {
     "data": {
      "text/plain": [
       "[12, 93, 23, 34, 54, 76, 65]"
      ]
     },
     "execution_count": 64,
     "metadata": {},
     "output_type": "execute_result"
    }
   ],
   "source": [
    "list"
   ]
  },
  {
   "cell_type": "markdown",
   "metadata": {},
   "source": [
    "# Linear Search"
   ]
  },
  {
   "cell_type": "code",
   "execution_count": 75,
   "metadata": {},
   "outputs": [],
   "source": [
    "def LinearSearch(list, item):\n",
    "    index = 0\n",
    "    found = False\n",
    "    while index < len(list) and found is False:\n",
    "        if list[index] ==item:\n",
    "            found= True\n",
    "        else:\n",
    "             index = index + 1\n",
    "    return found"
   ]
  },
  {
   "cell_type": "code",
   "execution_count": 78,
   "metadata": {},
   "outputs": [
    {
     "name": "stdout",
     "output_type": "stream",
     "text": [
      "True\n",
      "False\n"
     ]
    }
   ],
   "source": [
    "list = [12,33,11,99,22,55,90]\n",
    "print(LinearSearch(list,33))\n",
    "print(LinearSearch(list,71))"
   ]
  },
  {
   "cell_type": "markdown",
   "metadata": {},
   "source": [
    "# Binary Search"
   ]
  },
  {
   "cell_type": "code",
   "execution_count": 91,
   "metadata": {},
   "outputs": [],
   "source": [
    "def BinarySearch(list,item):\n",
    "    first = 0\n",
    "    last = len(list)-1\n",
    "    found = False\n",
    "    while first<=last and not found:\n",
    "        midpoint = (first+last)//2\n",
    "        if list [midpoint] == item:\n",
    "            found = True \n",
    "        else:\n",
    "            if item <list[midpoint]:\n",
    "                last = midpoint-1\n",
    "            else:\n",
    "                first = midpoint + 1\n",
    "    return found"
   ]
  },
  {
   "cell_type": "code",
   "execution_count": 101,
   "metadata": {},
   "outputs": [
    {
     "name": "stdout",
     "output_type": "stream",
     "text": [
      "True\n",
      "True\n"
     ]
    }
   ],
   "source": [
    "list = [77,89,34,12,45,56,99]\n",
    "sorted_list = BubbleSort(list)\n",
    "print(BinarySearch(list,99))\n",
    "print(BinarySearch(list,12))"
   ]
  },
  {
   "cell_type": "markdown",
   "metadata": {},
   "source": [
    "# Interpolation Sort"
   ]
  },
  {
   "cell_type": "code",
   "execution_count": 96,
   "metadata": {},
   "outputs": [],
   "source": [
    "def InterPolasearch(list,x):\n",
    "    idx0 = 0 \n",
    "    idxn = (len(list)-1)\n",
    "    found = False\n",
    "    while idx0<=idxn and x >= list[idx0]and x <=list[idxn]:\n",
    "        mid = idx0 + int (((float(idxn-idx0)/(list[idxn]- list[idx0]))*(x-list[idx0])))\n",
    "        searchvalue\n",
    "        if list[mid]==x:\n",
    "            found=True\n",
    "            return found\n",
    "        if list [mid]<x:\n",
    "            idx0=mid+1\n",
    "            return found"
   ]
  },
  {
   "cell_type": "code",
   "execution_count": 99,
   "metadata": {},
   "outputs": [
    {
     "name": "stdout",
     "output_type": "stream",
     "text": [
      "True\n",
      "False\n"
     ]
    }
   ],
   "source": [
    "list = [34,65,88,56,43,12]\n",
    "sorted_list = BubbleSort(list)\n",
    "print(BinarySearch(list,88))\n",
    "print(BinarySearch(list,91))"
   ]
  },
  {
   "cell_type": "code",
   "execution_count": null,
   "metadata": {},
   "outputs": [],
   "source": []
  }
 ],
 "metadata": {
  "kernelspec": {
   "display_name": "Python 3",
   "language": "python",
   "name": "python3"
  },
  "language_info": {
   "codemirror_mode": {
    "name": "ipython",
    "version": 3
   },
   "file_extension": ".py",
   "mimetype": "text/x-python",
   "name": "python",
   "nbconvert_exporter": "python",
   "pygments_lexer": "ipython3",
   "version": "3.8.3"
  }
 },
 "nbformat": 4,
 "nbformat_minor": 4
}
